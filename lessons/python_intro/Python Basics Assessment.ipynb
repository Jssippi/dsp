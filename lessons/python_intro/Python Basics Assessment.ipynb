{
 "cells": [
  {
   "cell_type": "code",
   "execution_count": 80,
   "metadata": {},
   "outputs": [
    {
     "name": "stdout",
     "output_type": "stream",
     "text": [
      "we are at index 0 in string [1, 1, 1] this element has a value of 1\n",
      "current string length is 3\n",
      "removing 1 at index 0\n",
      "because 1 was FOLLOWED by 1\n",
      "we are at index 1 in string [1, 1] this element has a value of 1\n",
      "current string length is 2\n",
      "BREAK\n",
      "ending index is 1\n",
      "[1, 1]\n"
     ]
    }
   ],
   "source": [
    "nums = [1,1,1]\n",
    "#index = 0\n",
    "if len(nums) >= 2:\n",
    "        for index, element in enumerate(nums):\n",
    "            print(f'we are at index {index} in string {nums} this element has a value of {nums[index]}')\n",
    "            print(f'current string length is {len(nums)}')\n",
    "            #print(f'the selected element has a value of {element}')\n",
    "            #if index == (len(nums)-1):\n",
    "                #print(f\"break at index{index}\")\n",
    "                #break\n",
    "            if index == (len(nums)-1):\n",
    "                print('BREAK')\n",
    "                break\n",
    "            if nums[index] == nums[index+1]:\n",
    "                print(f\"removing {nums[index]} at index {index}\")\n",
    "                print(f\"because {nums[index]} was FOLLOWED by {nums[index+1]}\")\n",
    "                nums.pop(index+1)\n",
    "                if index == len(nums):\n",
    "                    print(f'break at index {index}')\n",
    "                    break\n",
    "                #index += 1\n",
    "            elif nums[index] == nums[index-1]:\n",
    "                nums.pop(index-1)\n",
    "                print(f\"removing {nums[index]} at index {index}\")\n",
    "                print(f\"because{nums[index]} was PRECEEDED by {nums[index-1]}\")\n",
    "                if index == len(nums):\n",
    "                    print(f'break at index {index}')\n",
    "                    break\n",
    "                #index += 1\n",
    "            #else:\n",
    "                print('no dupes this pass, increasing index')\n",
    "                #index += 1\n",
    "        if nums[-1] == nums[-2]:\n",
    "            nums.pop(index-1)\n",
    "        if nums[-1] == nums[-2]:\n",
    "           nums.pop(index-1)\n",
    "        print(f'ending index is {index}')\n",
    "print(nums)"
   ]
  },
  {
   "cell_type": "code",
   "execution_count": null,
   "metadata": {},
   "outputs": [],
   "source": []
  },
  {
   "cell_type": "code",
   "execution_count": 13,
   "metadata": {},
   "outputs": [],
   "source": [
    "def x_values_first(word_dict):\n",
    "    value_list = word_dict.values()\n",
    "    new_list = list()\n",
    "    x_list = list()\n",
    "    for value in value_list:\n",
    "        if value[0] == 'x':\n",
    "            x_list.append(value)\n",
    "            x_list.sort()\n",
    "        else:\n",
    "            new_list.append(value)\n",
    "            new_list.sort()\n",
    "    for value in new_list:\n",
    "        x_list.append(value)\n",
    "    return(x_list)"
   ]
  },
  {
   "cell_type": "code",
   "execution_count": 14,
   "metadata": {},
   "outputs": [
    {
     "data": {
      "text/plain": [
       "['xaa', 'xzz', 'axx', 'bbb']"
      ]
     },
     "execution_count": 14,
     "metadata": {},
     "output_type": "execute_result"
    }
   ],
   "source": [
    "x_values_first({1: 'bbb', 5: 'axx', 2: 'xzz', 10: 'xaa'})"
   ]
  },
  {
   "cell_type": "code",
   "execution_count": null,
   "metadata": {},
   "outputs": [],
   "source": []
  },
  {
   "cell_type": "code",
   "execution_count": null,
   "metadata": {},
   "outputs": [],
   "source": []
  },
  {
   "cell_type": "code",
   "execution_count": null,
   "metadata": {},
   "outputs": [],
   "source": []
  },
  {
   "cell_type": "code",
   "execution_count": null,
   "metadata": {},
   "outputs": [],
   "source": []
  },
  {
   "cell_type": "code",
   "execution_count": null,
   "metadata": {},
   "outputs": [],
   "source": []
  },
  {
   "cell_type": "code",
   "execution_count": 7,
   "metadata": {},
   "outputs": [],
   "source": [
    "def add_duplicates(dict1, dict2):\n",
    "    dict3 = dict()\n",
    "    for key in dict1:\n",
    "        if key in dict2:\n",
    "            dict3.setdefault(key, 0)\n",
    "    for key in dict3:\n",
    "        dict3[key] = dict1[key] + dict2[key]\n",
    "    return(dict3)"
   ]
  },
  {
   "cell_type": "code",
   "execution_count": 8,
   "metadata": {},
   "outputs": [
    {
     "data": {
      "text/plain": [
       "{'b': 5}"
      ]
     },
     "execution_count": 8,
     "metadata": {},
     "output_type": "execute_result"
    }
   ],
   "source": [
    "add_duplicates({\"a\": 1, \"b\": 2}, {\"b\": 3, \"c\": 8})"
   ]
  },
  {
   "cell_type": "code",
   "execution_count": null,
   "metadata": {},
   "outputs": [],
   "source": []
  },
  {
   "cell_type": "markdown",
   "metadata": {},
   "source": [
    "    dict 3 = dict()\n",
    "    loop through each key in dict1 \n",
    "        if this key returns something from dict 2\n",
    "            dict3.setdefault(that key, 0)\n",
    "    loop through each key in dict3\n",
    "        dict3 value = dict1key + dict2key\n",
    "    return(dict3)"
   ]
  },
  {
   "cell_type": "code",
   "execution_count": 84,
   "metadata": {},
   "outputs": [
    {
     "name": "stdout",
     "output_type": "stream",
     "text": [
      "\n",
      "the current list is [1, 1, 1, 1, 3, 3, 3, 5]\n",
      "current num is actually 1 and supposed to 1 at index 0,previous is 5 and the next is 1\n",
      "we're removing 1 at index 0\n",
      "\n",
      "the current list is [1, 1, 1, 3, 3, 3, 5]\n",
      "current num is actually 1 and supposed to 1 at index 0,previous is 5 and the next is 1\n",
      "we're removing 1 at index 0\n",
      "\n",
      "the current list is [1, 1, 3, 3, 3, 5]\n",
      "current num is actually 3 and supposed to 3 at index 2,previous is 1 and the next is 3\n",
      "we're removing 3 at index 2\n",
      "\n",
      "the current list is [1, 1, 3, 3, 5]\n",
      "current num is actually 3 and supposed to 3 at index 2,previous is 1 and the next is 3\n",
      "we're removing 3 at index 2\n",
      "\n",
      "[1, 1, 3, 5]\n"
     ]
    }
   ],
   "source": [
    "nums = [1,1,1,1,3,3,3,5]\n",
    "\n",
    "for element in nums:\n",
    "    index = nums.index(element)\n",
    "    print(f\"\\nthe current list is {nums}\")\n",
    "    print(f\"current num is actually {element} and supposed to {nums[index]} at index {index}\"\n",
    "          f\",previous is {nums[index-1]} and the next is {nums[index+1]}\")\n",
    "    if nums[index] == nums[index+1] or nums[index] == nums[index-1]:\n",
    "        print(f\"we're removing {nums[index]} at index {index}\")\n",
    "        nums.pop(index)\n",
    "                \n",
    "print(f\"\\n{nums}\")"
   ]
  },
  {
   "cell_type": "code",
   "execution_count": 144,
   "metadata": {},
   "outputs": [
    {
     "name": "stdout",
     "output_type": "stream",
     "text": [
      "[]\n"
     ]
    }
   ],
   "source": [
    "nums_orig = []\n",
    "nums_new = list()\n",
    "for index, element in enumerate(nums_orig):\n",
    "    if index == (len(nums_orig)-1):\n",
    "        nums_new.append(element)\n",
    "        break        \n",
    "    elif element != nums_orig[index+1]: \n",
    "        nums_new.append(element)\n",
    "print(nums_new)"
   ]
  },
  {
   "cell_type": "code",
   "execution_count": 98,
   "metadata": {},
   "outputs": [
    {
     "data": {
      "text/plain": [
       "1"
      ]
     },
     "execution_count": 98,
     "metadata": {},
     "output_type": "execute_result"
    }
   ],
   "source": [
    "listicle = [1,2,3,4,5,6,7]\n",
    "my_iterator = iter(listicle)\n",
    "next(my_iterator)"
   ]
  },
  {
   "cell_type": "code",
   "execution_count": 93,
   "metadata": {},
   "outputs": [],
   "source": [
    "del listicle[]"
   ]
  },
  {
   "cell_type": "code",
   "execution_count": 94,
   "metadata": {},
   "outputs": [
    {
     "data": {
      "text/plain": [
       "[1, 2, 3, 5, 6, 7]"
      ]
     },
     "execution_count": 94,
     "metadata": {},
     "output_type": "execute_result"
    }
   ],
   "source": [
    "listicle"
   ]
  },
  {
   "cell_type": "code",
   "execution_count": 95,
   "metadata": {},
   "outputs": [
    {
     "data": {
      "text/plain": [
       "2"
      ]
     },
     "execution_count": 95,
     "metadata": {},
     "output_type": "execute_result"
    }
   ],
   "source": [
    "next(my_iterator)"
   ]
  },
  {
   "cell_type": "code",
   "execution_count": 102,
   "metadata": {},
   "outputs": [],
   "source": [
    "del listicle[3]"
   ]
  },
  {
   "cell_type": "code",
   "execution_count": 103,
   "metadata": {},
   "outputs": [
    {
     "data": {
      "text/plain": [
       "6"
      ]
     },
     "execution_count": 103,
     "metadata": {},
     "output_type": "execute_result"
    }
   ],
   "source": [
    "next(my_iterator)"
   ]
  },
  {
   "cell_type": "code",
   "execution_count": null,
   "metadata": {},
   "outputs": [],
   "source": []
  }
 ],
 "metadata": {
  "kernelspec": {
   "display_name": "Python 3",
   "language": "python",
   "name": "python3"
  },
  "language_info": {
   "codemirror_mode": {
    "name": "ipython",
    "version": 3
   },
   "file_extension": ".py",
   "mimetype": "text/x-python",
   "name": "python",
   "nbconvert_exporter": "python",
   "pygments_lexer": "ipython3",
   "version": "3.7.7"
  }
 },
 "nbformat": 4,
 "nbformat_minor": 4
}
