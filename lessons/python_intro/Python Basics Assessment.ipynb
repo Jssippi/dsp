{
 "cells": [
  {
   "cell_type": "code",
   "execution_count": null,
   "metadata": {},
   "outputs": [],
   "source": [
    "nums = [1,1,1,1,1,1]\n",
    "#index = 0\n",
    "if len(nums) >= 2:\n",
    "        for index, element in enumerate(nums):\n",
    "            print(f'we are at index {index} in string {nums} this element has a value of {nums[index]}')\n",
    "            print(f'current string length is {len(nums)}')\n",
    "            #print(f'the selected element has a value of {element}')\n",
    "            #if index == (len(nums)-1):\n",
    "                #print(f\"break at index{index}\")\n",
    "                #break\n",
    "            if index == (len(nums)-1):\n",
    "                print('BREAK')\n",
    "                break\n",
    "            if nums[index] == nums[index+1]:\n",
    "                print(f\"removing {nums[index]} at index {index}\")\n",
    "                print(f\"because {nums[index]} was FOLLOWED by {nums[index+1]}\")\n",
    "                nums.pop(index+1)\n",
    "                if index == len(nums):\n",
    "                    print(f'break at index {index}')\n",
    "                    break\n",
    "                #index += 1\n",
    "            elif nums[index] == nums[index-1]:\n",
    "                nums.pop(index-1)\n",
    "                print(f\"removing {nums[index]} at index {index}\")\n",
    "                print(f\"because{nums[index]} was PRECEEDED by {nums[index-1]}\")\n",
    "                if index == len(nums):\n",
    "                    print(f'break at index {index}')\n",
    "                    break\n",
    "                #index += 1\n",
    "            #else:\n",
    "                print('no dupes this pass, increasing index')\n",
    "                #index += 1\n",
    "        if nums[-1] == nums[-2]:\n",
    "            nums.pop(index-1)\n",
    "        if nums[-1] == nums[-2]:\n",
    "            nums.pop(index-1)\n",
    "        print(f'ending index is {index}')\n",
    "        print(nums)"
   ]
  },
  {
   "cell_type": "code",
   "execution_count": null,
   "metadata": {},
   "outputs": [],
   "source": []
  },
  {
   "cell_type": "code",
   "execution_count": 13,
   "metadata": {},
   "outputs": [],
   "source": [
    "def x_values_first(word_dict):\n",
    "    value_list = word_dict.values()\n",
    "    new_list = list()\n",
    "    x_list = list()\n",
    "    for value in value_list:\n",
    "        if value[0] == 'x':\n",
    "            x_list.append(value)\n",
    "            x_list.sort()\n",
    "        else:\n",
    "            new_list.append(value)\n",
    "            new_list.sort()\n",
    "    for value in new_list:\n",
    "        x_list.append(value)\n",
    "    return(x_list)"
   ]
  },
  {
   "cell_type": "code",
   "execution_count": 14,
   "metadata": {},
   "outputs": [
    {
     "data": {
      "text/plain": [
       "['xaa', 'xzz', 'axx', 'bbb']"
      ]
     },
     "execution_count": 14,
     "metadata": {},
     "output_type": "execute_result"
    }
   ],
   "source": [
    "x_values_first({1: 'bbb', 5: 'axx', 2: 'xzz', 10: 'xaa'})"
   ]
  },
  {
   "cell_type": "code",
   "execution_count": null,
   "metadata": {},
   "outputs": [],
   "source": []
  },
  {
   "cell_type": "code",
   "execution_count": null,
   "metadata": {},
   "outputs": [],
   "source": []
  },
  {
   "cell_type": "code",
   "execution_count": null,
   "metadata": {},
   "outputs": [],
   "source": []
  },
  {
   "cell_type": "code",
   "execution_count": null,
   "metadata": {},
   "outputs": [],
   "source": []
  },
  {
   "cell_type": "code",
   "execution_count": null,
   "metadata": {},
   "outputs": [],
   "source": []
  },
  {
   "cell_type": "code",
   "execution_count": 7,
   "metadata": {},
   "outputs": [],
   "source": [
    "def add_duplicates(dict1, dict2):\n",
    "    dict3 = dict()\n",
    "    for key in dict1:\n",
    "        if key in dict2:\n",
    "            dict3.setdefault(key, 0)\n",
    "    for key in dict3:\n",
    "        dict3[key] = dict1[key] + dict2[key]\n",
    "    return(dict3)"
   ]
  },
  {
   "cell_type": "code",
   "execution_count": 8,
   "metadata": {},
   "outputs": [
    {
     "data": {
      "text/plain": [
       "{'b': 5}"
      ]
     },
     "execution_count": 8,
     "metadata": {},
     "output_type": "execute_result"
    }
   ],
   "source": [
    "add_duplicates({\"a\": 1, \"b\": 2}, {\"b\": 3, \"c\": 8})"
   ]
  },
  {
   "cell_type": "code",
   "execution_count": null,
   "metadata": {},
   "outputs": [],
   "source": []
  },
  {
   "cell_type": "markdown",
   "metadata": {},
   "source": [
    "    dict 3 = dict()\n",
    "    loop through each key in dict1 \n",
    "        if this key returns something from dict 2\n",
    "            dict3.setdefault(that key, 0)\n",
    "    loop through each key in dict3\n",
    "        dict3 value = dict1key + dict2key\n",
    "    return(dict3)"
   ]
  }
 ],
 "metadata": {
  "kernelspec": {
   "display_name": "Python 3",
   "language": "python",
   "name": "python3"
  },
  "language_info": {
   "codemirror_mode": {
    "name": "ipython",
    "version": 3
   },
   "file_extension": ".py",
   "mimetype": "text/x-python",
   "name": "python",
   "nbconvert_exporter": "python",
   "pygments_lexer": "ipython3",
   "version": "3.7.7"
  }
 },
 "nbformat": 4,
 "nbformat_minor": 4
}
